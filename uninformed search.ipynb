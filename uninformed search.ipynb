{
 "cells": [
  {
   "cell_type": "code",
   "execution_count": 1,
   "metadata": {},
   "outputs": [],
   "source": [
    "romanian_map = {\n",
    "    'Arad': {'Sibiu':140, 'Zerind':75, 'Timisoara':118},\n",
    "    'Zerind': {'Arad':75, 'Oradea':71},\n",
    "    'Oradea': {'Zerind':71, 'Sibiu': 151},\n",
    "    'Sibiu': {'Arad':140, 'Oradea':151, 'Fagaras':99, 'Rimnicu':80},\n",
    "    'Timisoara': {'Arad': 118, 'Lugoj':111},\n",
    "    'Lugoj': {'Timisoara':111, 'Mehadia':70},\n",
    "    'Mehadia': {'Lugoj': 70, 'Drobeta':75},\n",
    "    'Drobeta': {'Mehadia':75, 'Craiova':120},\n",
    "    'Craiova': {'Drobeta': 120, 'Rimnicu': 146, 'Pitesti': 138},\n",
    "    'Rimnicu': {'Sibiu': 80, 'Craiova': 146, 'Pitesti': 97},\n",
    "    'Fagaras': {'Sibiu':99, 'Bucharest':211},\n",
    "    'Pitesti': {'Rimnicu': 97, 'Craiova':138, 'Bucharest':101},\n",
    "    'Bucharest': {'Fagaras':211, 'Pitesti': 101, 'Giurgiu':90, 'Urziceni':85},\n",
    "    'Giurgiu': {'Bucharest': 90},\n",
    "    'Urziceni': {'Bucharest': 85, 'Vaslui':142, 'Hirsova':98},\n",
    "    'Hirsova': {'Urziceni':98, 'Eforie':86},\n",
    "    'Eforie': {'Hirsova':86},\n",
    "    'Vaslui': {'Iasi': 92, 'Urziceni':142},\n",
    "    'Iasi': {'Vaslui':92, 'Neamt': 87},\n",
    "    'Neamt': {'Iasi':87}\n",
    "}"
   ]
  },
  {
   "cell_type": "code",
   "execution_count": 2,
   "metadata": {},
   "outputs": [
    {
     "data": {
      "text/plain": [
       "dict_keys(['Arad', 'Zerind', 'Oradea', 'Sibiu', 'Timisoara', 'Lugoj', 'Mehadia', 'Drobeta', 'Craiova', 'Rimnicu', 'Fagaras', 'Pitesti', 'Bucharest', 'Giurgiu', 'Urziceni', 'Hirsova', 'Eforie', 'Vaslui', 'Iasi', 'Neamt'])"
      ]
     },
     "execution_count": 2,
     "metadata": {},
     "output_type": "execute_result"
    }
   ],
   "source": [
    "romanian_map.keys()"
   ]
  },
  {
   "cell_type": "code",
   "execution_count": 8,
   "metadata": {},
   "outputs": [
    {
     "data": {
      "text/plain": [
       "dict_keys(['Sibiu', 'Zerind', 'Timisoara'])"
      ]
     },
     "execution_count": 8,
     "metadata": {},
     "output_type": "execute_result"
    }
   ],
   "source": [
    "romanian_map['Arad'].keys()"
   ]
  },
  {
   "cell_type": "code",
   "execution_count": 3,
   "metadata": {},
   "outputs": [],
   "source": [
    "#romanian_map['Arad']"
   ]
  },
  {
   "cell_type": "code",
   "execution_count": 9,
   "metadata": {},
   "outputs": [
    {
     "data": {
      "text/plain": [
       "118"
      ]
     },
     "execution_count": 9,
     "metadata": {},
     "output_type": "execute_result"
    }
   ],
   "source": [
    "romanian_map['Arad']['Timisoara']"
   ]
  },
  {
   "cell_type": "markdown",
   "metadata": {},
   "source": [
    "# BFS"
   ]
  },
  {
   "cell_type": "code",
   "execution_count": null,
   "metadata": {},
   "outputs": [],
   "source": [
    "from queue import Queue\n",
    "\n",
    "def bfs(startingNode, destinationNode):\n",
    "    visited = {} # to store expanded nodes\n",
    "    traversal_output = [] # to store the order of traversal\n",
    "    frontier = Queue()\n",
    "\n",
    "    for city in romanian_map.keys():\n",
    "        visited[city] = False\n",
    "        \n",
    "    \n",
    "    node = {'City':startingNode,'Distance':0, 'Path':[startingNode]}\n",
    "    frontier.put(node)    # arad\n",
    "    \n",
    "    while not frontier.empty():\n",
    "        node = frontier.get()     # selceting the node to expand\n",
    "        u = node['City']\n",
    "        visited[u] = True\n",
    "        traversal_output.append(u)\n",
    "        \n",
    "        for v in romanian_map[u].keys():\n",
    "            if not visited[v]: # process if v is not expanded                \n",
    "                d = node['Distance'] + romanian_map[u][v] \n",
    "                p =  node['Path'] + [v]\n",
    "                frontier.put({'City':v,'Distance':d,'Path': p})# store the new child node in the frontier\n",
    "                if v == destinationNode: # goal test\n",
    "                    print(d)\n",
    "                    print(traversal_output)\n",
    "                    return p # breaking from while\n",
    "    print('not found')   "
   ]
  },
  {
   "cell_type": "code",
   "execution_count": 8,
   "metadata": {
    "scrolled": true
   },
   "outputs": [
    {
     "name": "stdout",
     "output_type": "stream",
     "text": [
      "450\n",
      "['Arad', 'Sibiu', 'Zerind', 'Timisoara', 'Oradea', 'Fagaras']\n"
     ]
    },
    {
     "data": {
      "text/plain": [
       "['Arad', 'Sibiu', 'Fagaras', 'Bucharest']"
      ]
     },
     "execution_count": 8,
     "metadata": {},
     "output_type": "execute_result"
    }
   ],
   "source": [
    "bfs('Arad', 'Bucharest') # change the soure and destination"
   ]
  },
  {
   "cell_type": "markdown",
   "metadata": {},
   "source": [
    "insert the simulation (photo)"
   ]
  },
  {
   "cell_type": "code",
   "execution_count": null,
   "metadata": {},
   "outputs": [],
   "source": [
    "# insert here"
   ]
  },
  {
   "cell_type": "markdown",
   "metadata": {},
   "source": [
    "# DFS\n",
    "Impement DFS using stack,\n",
    "Implement stack using list (push) "
   ]
  },
  {
   "cell_type": "code",
   "execution_count": 9,
   "metadata": {},
   "outputs": [
    {
     "name": "stdout",
     "output_type": "stream",
     "text": [
      "['cc', 'bb', 'aa']\n",
      "aa\n",
      "['cc', 'bb']\n"
     ]
    }
   ],
   "source": [
    "Stack = []\n",
    "Stack.append('cc') # insert\n",
    "Stack.append('bb')\n",
    "Stack.append('aa')\n",
    "print(Stack)\n",
    "print(Stack.pop(-1)) # delete\n",
    "print(Stack)"
   ]
  },
  {
   "cell_type": "code",
   "execution_count": null,
   "metadata": {},
   "outputs": [],
   "source": [
    "# code dfs here"
   ]
  },
  {
   "cell_type": "code",
   "execution_count": null,
   "metadata": {},
   "outputs": [],
   "source": [
    "# insert image here"
   ]
  }
 ],
 "metadata": {
  "kernelspec": {
   "display_name": "Python 3",
   "language": "python",
   "name": "python3"
  },
  "language_info": {
   "codemirror_mode": {
    "name": "ipython",
    "version": 3
   },
   "file_extension": ".py",
   "mimetype": "text/x-python",
   "name": "python",
   "nbconvert_exporter": "python",
   "pygments_lexer": "ipython3",
   "version": "3.8.8"
  }
 },
 "nbformat": 4,
 "nbformat_minor": 4
}
