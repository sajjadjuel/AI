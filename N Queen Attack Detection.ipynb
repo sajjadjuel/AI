{
 "cells": [
  {
   "cell_type": "markdown",
   "metadata": {},
   "source": [
    "# N Queen Attack Detection"
   ]
  },
  {
   "cell_type": "code",
   "execution_count": 63,
   "metadata": {},
   "outputs": [
    {
     "name": "stdout",
     "output_type": "stream",
     "text": [
      "Q1: 3,8\n",
      "Q2: 6,7\n",
      "Q3: 7,2\n",
      "Q4: 6,1\n",
      "Q5: 2,5\n",
      "Q6: 3,2\n",
      "Q7: 1,6\n",
      "REPEAT: row:6, colum:7\n",
      "Q8: 3,5\n",
      "[3, 6, 7, 6, 2, 3, 1, 3]\n",
      "[8, 7, 2, 1, 5, 2, 6, 5]\n"
     ]
    }
   ],
   "source": [
    "import random\n",
    "N = 8\n",
    "r = []\n",
    "c = []\n",
    "for i in range(1, N+1): \n",
    "    r1=[]\n",
    "    c1=[]\n",
    "    r1=random.choice(range(1, N+1))\n",
    "    c1=random.choice(range(1, N+1))\n",
    "    #check repetition of position\n",
    "    while(True):\n",
    "        for a in range(0,len(r)):\n",
    "            for j in range(a+1,len(c)):\n",
    "                if(r[a] == r1 and c[a] == c1):\n",
    "                    print(f'REPEAT: row:{r[a]}, colum:{c[a]}')\n",
    "                    r1 = random.choice(range(1, N+1))\n",
    "                    c1 = random.choice(range(1, N+1))\n",
    "                    continue\n",
    "        break\n",
    "    r.append(r1)\n",
    "    c.append(c1)\n",
    "        \n",
    "    print('Q{}: {},{}'.format(i,r[-1],c[-1]))\n",
    "print(r)\n",
    "print(c)"
   ]
  },
  {
   "cell_type": "code",
   "execution_count": 64,
   "metadata": {},
   "outputs": [],
   "source": [
    "# row attack\n",
    "def rAttack(R,n):\n",
    "    print('Row attack:')\n",
    "    print('-------------')\n",
    "    for i in range(0,n):\n",
    "        for j in range(i+1,n):\n",
    "            if(r[i] == r[j]):\n",
    "                print('Row:{} Column:{} and {}'.format(r[i],c[i],c[j])) \n",
    "    return True"
   ]
  },
  {
   "cell_type": "code",
   "execution_count": 65,
   "metadata": {},
   "outputs": [
    {
     "name": "stdout",
     "output_type": "stream",
     "text": [
      "Row attack:\n",
      "-------------\n",
      "Row:3 Column:8 and 2\n",
      "Row:3 Column:8 and 5\n",
      "Row:6 Column:7 and 1\n",
      "Row:3 Column:2 and 5\n"
     ]
    },
    {
     "data": {
      "text/plain": [
       "True"
      ]
     },
     "execution_count": 65,
     "metadata": {},
     "output_type": "execute_result"
    }
   ],
   "source": [
    "rAttack(r,N)"
   ]
  },
  {
   "cell_type": "code",
   "execution_count": 66,
   "metadata": {},
   "outputs": [],
   "source": [
    "#column attack\n",
    "def cAttack(C,n):\n",
    "    print('Coloum attack:')\n",
    "    print('-------------')\n",
    "    for i in range(0,n):\n",
    "        for j in range(i+1,n):\n",
    "            if(c[i] ==c[j]):\n",
    "                print('Column:{} Row:{} and {}'.format(c[i],r[i],r[j]))\n",
    "    return True"
   ]
  },
  {
   "cell_type": "code",
   "execution_count": 67,
   "metadata": {},
   "outputs": [
    {
     "name": "stdout",
     "output_type": "stream",
     "text": [
      "Coloum attack:\n",
      "-------------\n",
      "Column:2 Row:7 and 3\n",
      "Column:5 Row:2 and 3\n"
     ]
    },
    {
     "data": {
      "text/plain": [
       "True"
      ]
     },
     "execution_count": 67,
     "metadata": {},
     "output_type": "execute_result"
    }
   ],
   "source": [
    "cAttack(c,N)"
   ]
  },
  {
   "cell_type": "code",
   "execution_count": 68,
   "metadata": {},
   "outputs": [],
   "source": [
    "# diagonal atack\n",
    "def dAttack(R,C,n):\n",
    "    print('Diagonal Attack:')\n",
    "    print('-------------')\n",
    "    for i in range(0,n):\n",
    "        for j in range(i+1,n):\n",
    "                if (abs(r[i]-r[j])==abs(c[i]-c[j])):\n",
    "                    print('Column:{} Row:{} and Coloum:{} Row:{} '.format(c[i],r[i],c[j],r[j]))\n",
    "    return True"
   ]
  },
  {
   "cell_type": "code",
   "execution_count": 69,
   "metadata": {},
   "outputs": [
    {
     "name": "stdout",
     "output_type": "stream",
     "text": [
      "Diagonal Attack:\n",
      "-------------\n",
      "Column:8 Row:3 and Coloum:6 Row:1 \n",
      "Column:2 Row:7 and Coloum:1 Row:6 \n",
      "Column:1 Row:6 and Coloum:5 Row:2 \n",
      "Column:1 Row:6 and Coloum:6 Row:1 \n",
      "Column:5 Row:2 and Coloum:6 Row:1 \n"
     ]
    },
    {
     "data": {
      "text/plain": [
       "True"
      ]
     },
     "execution_count": 69,
     "metadata": {},
     "output_type": "execute_result"
    }
   ],
   "source": [
    "dAttack(r,c,N)"
   ]
  },
  {
   "cell_type": "code",
   "execution_count": 70,
   "metadata": {},
   "outputs": [],
   "source": [
    "# implement a method to print a state is valid or not\n",
    "# input r and c (two lists) \n",
    "def isValid(r,c,N):\n",
    "    for i in range(0,N):\n",
    "        for j in range(0,N):\n",
    "            if(r[i] == r[j] or c[i] ==c[j] or abs(r[i]-r[j])==abs(c[i]-c[j])):\n",
    "                print(r[i],c[j],' is Valid')\n",
    "            else:\n",
    "                print(r[i],c[j], 'is Invalid')"
   ]
  },
  {
   "cell_type": "code",
   "execution_count": 71,
   "metadata": {},
   "outputs": [],
   "source": [
    "# implement a method to print a state is valid or not\n",
    "# input r and c (two lists) \n",
    "def Valid(R,C,N):\n",
    "    RA=rAttack(R,N)\n",
    "    print('-------------')\n",
    "    CA=cAttack(C,N)\n",
    "    print('-------------')\n",
    "    DA=dAttack(R,C,N)\n",
    "    print('-------------')\n",
    "    if RA or CA or DA:\n",
    "        print('**___State is Invalid___**')\n",
    "    else:\n",
    "        print('**___State is Valid___**')\n",
    "            "
   ]
  },
  {
   "cell_type": "code",
   "execution_count": 72,
   "metadata": {},
   "outputs": [
    {
     "name": "stdout",
     "output_type": "stream",
     "text": [
      "Row attack:\n",
      "-------------\n",
      "Row:3 Column:8 and 2\n",
      "Row:3 Column:8 and 5\n",
      "Row:6 Column:7 and 1\n",
      "Row:3 Column:2 and 5\n",
      "-------------\n",
      "Coloum attack:\n",
      "-------------\n",
      "Column:2 Row:7 and 3\n",
      "Column:5 Row:2 and 3\n",
      "-------------\n",
      "Diagonal Attack:\n",
      "-------------\n",
      "Column:8 Row:3 and Coloum:6 Row:1 \n",
      "Column:2 Row:7 and Coloum:1 Row:6 \n",
      "Column:1 Row:6 and Coloum:5 Row:2 \n",
      "Column:1 Row:6 and Coloum:6 Row:1 \n",
      "Column:5 Row:2 and Coloum:6 Row:1 \n",
      "-------------\n",
      "**___State is Invalid___**\n"
     ]
    }
   ],
   "source": [
    "Valid(r,c,N)"
   ]
  },
  {
   "cell_type": "code",
   "execution_count": 73,
   "metadata": {},
   "outputs": [
    {
     "name": "stdout",
     "output_type": "stream",
     "text": [
      "Enter Board Size: 8\n",
      "REPEAT: row:8, colum:3\n",
      "\n",
      "[8, 2, 1, 7, 6, 7, 5, 2]\n",
      "[3, 3, 5, 2, 4, 3, 8, 1]\n",
      "Row attack:\n",
      "-------------\n",
      "Row:3 Column:8 and 2\n",
      "Row:3 Column:8 and 5\n",
      "Row:6 Column:7 and 1\n",
      "Row:3 Column:2 and 5\n",
      "-------------\n",
      "Coloum attack:\n",
      "-------------\n",
      "Column:2 Row:7 and 3\n",
      "Column:5 Row:2 and 3\n",
      "-------------\n",
      "Diagonal Attack:\n",
      "-------------\n",
      "Column:8 Row:3 and Coloum:6 Row:1 \n",
      "Column:2 Row:7 and Coloum:1 Row:6 \n",
      "Column:1 Row:6 and Coloum:5 Row:2 \n",
      "Column:1 Row:6 and Coloum:6 Row:1 \n",
      "Column:5 Row:2 and Coloum:6 Row:1 \n",
      "-------------\n",
      "**___State is Invalid___**\n"
     ]
    }
   ],
   "source": [
    "# implement a method to print a state is valid or not\n",
    "# input r and c (two lists)\n",
    "P =int(input(\"Enter Board Size: \"))\n",
    "S = []\n",
    "J = []\n",
    "for i in range(0, P):\n",
    "    R1 = []\n",
    "    C1 = []\n",
    "    #check repetition of position\n",
    "    R1 = random.choice(range(1, P+1))\n",
    "    C1 = random.choice(range(1, P+1))\n",
    "    while(True):\n",
    "        for a in range(0,len(S)):\n",
    "            for j in range(a+1,len(J)):\n",
    "                if(S[a] == R1 and J[a] == C1):\n",
    "                    print(f'REPEAT: row:{S[a]}, colum:{J[a]}')\n",
    "                    R1 = random.choice(range(1, P+1))\n",
    "                    C1 = random.choice(range(1, P+1))\n",
    "                    continue\n",
    "        break\n",
    "    S.append(R1)\n",
    "    J.append(C1)\n",
    "print()        \n",
    "print(S)\n",
    "print(J)\n",
    "Valid(S,J,P)"
   ]
  },
  {
   "cell_type": "code",
   "execution_count": null,
   "metadata": {},
   "outputs": [],
   "source": []
  },
  {
   "cell_type": "code",
   "execution_count": null,
   "metadata": {},
   "outputs": [],
   "source": []
  }
 ],
 "metadata": {
  "kernelspec": {
   "display_name": "Python 3",
   "language": "python",
   "name": "python3"
  },
  "language_info": {
   "codemirror_mode": {
    "name": "ipython",
    "version": 3
   },
   "file_extension": ".py",
   "mimetype": "text/x-python",
   "name": "python",
   "nbconvert_exporter": "python",
   "pygments_lexer": "ipython3",
   "version": "3.8.8"
  }
 },
 "nbformat": 4,
 "nbformat_minor": 4
}
