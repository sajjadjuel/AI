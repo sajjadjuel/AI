{
 "cells": [
  {
   "cell_type": "code",
   "execution_count": 174,
   "metadata": {},
   "outputs": [],
   "source": [
    "# Define a new cgraph\n",
    "cgraph =  {'DK': ['BAR', 'MYM','SYL','KHU','CTG','RAJ'], \n",
    "          'BAR': ['DK', 'KHU', 'CTG'], \n",
    "          'CTG': ['BAR','DK','SYL'],\n",
    "          'RAN': ['RAJ', 'MYM'], \n",
    "          'SYL': ['CTG','DK','MYM'], \n",
    "          'KHU': ['BAR', 'DK', 'RAJ'], \n",
    "          'MYM': ['RAN', 'RAJ', 'SYL','DK'],\n",
    "          'RAJ': ['KHU', 'DK', 'MYM','RAN']}"
   ]
  },
  {
   "cell_type": "code",
   "execution_count": 175,
   "metadata": {},
   "outputs": [],
   "source": [
    "import random\n",
    "def get_color(node, rv, cg):\n",
    "    # CODE\n",
    "    # check rv[node] is empty or not when no color availabe\n",
    "    if rv[node] =='':\n",
    "        return 'no color'\n",
    "    # return 'no color'\n",
    "    color = random.choice(rv[node])\n",
    "    rv.pop(node)\n",
    "    # update remaining values for neihbouring node\n",
    "    adjList = cg[node]\n",
    "    for adj in adjList:\n",
    "        if adj in rv.keys()and color in rv[adj]:\n",
    "            rv[adj].remove(color)\n",
    "    #print(adjList)\n",
    "    return color"
   ]
  },
  {
   "cell_type": "markdown",
   "metadata": {},
   "source": [
    "## Highest Degree Node"
   ]
  },
  {
   "cell_type": "code",
   "execution_count": 176,
   "metadata": {},
   "outputs": [],
   "source": [
    "# write a method to get the highest degree node\n",
    "def get_hdnode(cg, solved):\n",
    "    mnode = ''\n",
    "    degree = -1\n",
    "    for k in cg.keys():\n",
    "        if len(cg[k])  > degree and k not in solved.keys():\n",
    "            #print(k)\n",
    "            degree = len(cg[k])\n",
    "            mnode = k\n",
    "            print(k)\n",
    "    return mnode"
   ]
  },
  {
   "cell_type": "markdown",
   "metadata": {},
   "source": [
    "Color the nodes using Highest degree heuristic"
   ]
  },
  {
   "cell_type": "code",
   "execution_count": 177,
   "metadata": {},
   "outputs": [
    {
     "name": "stdout",
     "output_type": "stream",
     "text": [
      "DK\n",
      "{'BAR': ['R', 'B', 'W'], 'CTG': ['R', 'B', 'W'], 'RAN': ['R', 'G', 'B', 'W'], 'SYL': ['R', 'B', 'W'], 'KHU': ['R', 'B', 'W'], 'MYM': ['R', 'B', 'W'], 'RAJ': ['R', 'B', 'W']}\n",
      "{'DK': 'G'}\n",
      "BAR\n",
      "MYM\n",
      "{'BAR': ['R', 'B', 'W'], 'CTG': ['R', 'B', 'W'], 'RAN': ['G', 'B', 'W'], 'SYL': ['B', 'W'], 'KHU': ['R', 'B', 'W'], 'RAJ': ['B', 'W']}\n",
      "{'DK': 'G', 'MYM': 'R'}\n",
      "BAR\n",
      "RAJ\n",
      "{'BAR': ['R', 'B', 'W'], 'CTG': ['R', 'B', 'W'], 'RAN': ['G', 'B'], 'SYL': ['B', 'W'], 'KHU': ['R', 'B']}\n",
      "{'DK': 'G', 'MYM': 'R', 'RAJ': 'W'}\n",
      "BAR\n",
      "{'CTG': ['B', 'W'], 'RAN': ['G', 'B'], 'SYL': ['B', 'W'], 'KHU': ['B']}\n",
      "{'DK': 'G', 'MYM': 'R', 'RAJ': 'W', 'BAR': 'R'}\n",
      "CTG\n",
      "{'RAN': ['G', 'B'], 'SYL': ['W'], 'KHU': ['B']}\n",
      "{'DK': 'G', 'MYM': 'R', 'RAJ': 'W', 'BAR': 'R', 'CTG': 'B'}\n",
      "RAN\n",
      "SYL\n",
      "{'RAN': ['G', 'B'], 'KHU': ['B']}\n",
      "{'DK': 'G', 'MYM': 'R', 'RAJ': 'W', 'BAR': 'R', 'CTG': 'B', 'SYL': 'W'}\n",
      "RAN\n",
      "KHU\n",
      "{'RAN': ['G', 'B']}\n",
      "{'DK': 'G', 'MYM': 'R', 'RAJ': 'W', 'BAR': 'R', 'CTG': 'B', 'SYL': 'W', 'KHU': 'B'}\n",
      "RAN\n",
      "{}\n",
      "{'DK': 'G', 'MYM': 'R', 'RAJ': 'W', 'BAR': 'R', 'CTG': 'B', 'SYL': 'W', 'KHU': 'B', 'RAN': 'B'}\n"
     ]
    }
   ],
   "source": [
    "assigned = {} # store assignes variables with colors\n",
    "remainingValues = {'DK': ['R','G','B','W'], \n",
    "                   'BAR': ['R','G','B','W'], \n",
    "                   'CTG': ['R','G','B','W'],\n",
    "                   'RAN': ['R','G','B','W'], \n",
    "                   'SYL': ['R','G','B','W'], \n",
    "                   'KHU': ['R','G','B','W'], \n",
    "                   'MYM': ['R','G','B','W'],\n",
    "                   'RAJ': ['R','G','B','W']}\n",
    "for i in range(len(cgraph)):\n",
    "    # assign color to the highest degree node\n",
    "    hdNode = get_hdnode(cgraph, assigned)\n",
    "    if len(hdNode)=='':\n",
    "        print('assignment complete')\n",
    "    color = get_color(hdNode, remainingValues, cgraph)\n",
    "    # CODE\n",
    "    # check if 'no color' is returned\n",
    "    # print failure\n",
    "    if color == 'no color':\n",
    "        print('failure')\n",
    "   \n",
    "\n",
    "    assigned[hdNode]= color\n",
    "    print(remainingValues)\n",
    "    print(assigned)"
   ]
  },
  {
   "cell_type": "markdown",
   "metadata": {},
   "source": [
    "## Minimum Remaining Value"
   ]
  },
  {
   "cell_type": "code",
   "execution_count": 178,
   "metadata": {},
   "outputs": [],
   "source": [
    "# define a method to select a node by MRV\n",
    "def get_MRVnode(rv):\n",
    "    # CODE\n",
    "    #implement the logic on remainingValues list\n",
    "    length=len(cgraph.keys()) \n",
    "    node = ''\n",
    "    for i in rv.keys():\n",
    "        if (len(rv[i]) < length):\n",
    "            length = len(rv[i])\n",
    "            node = i\n",
    "    return node\n",
    "    "
   ]
  },
  {
   "cell_type": "markdown",
   "metadata": {},
   "source": [
    "Color the nodes using MRV heuristic"
   ]
  },
  {
   "cell_type": "code",
   "execution_count": 179,
   "metadata": {},
   "outputs": [
    {
     "name": "stdout",
     "output_type": "stream",
     "text": [
      "{'BAR': ['G', 'B', 'W'], 'CTG': ['G', 'B', 'W'], 'RAN': ['R', 'G', 'B', 'W'], 'SYL': ['G', 'B', 'W'], 'KHU': ['G', 'B', 'W'], 'MYM': ['G', 'B', 'W'], 'RAJ': ['G', 'B', 'W']}\n",
      "{'DK': 'R'}\n",
      "{'CTG': ['B', 'W'], 'RAN': ['R', 'G', 'B', 'W'], 'SYL': ['G', 'B', 'W'], 'KHU': ['B', 'W'], 'MYM': ['G', 'B', 'W'], 'RAJ': ['G', 'B', 'W']}\n",
      "{'DK': 'R', 'BAR': 'G'}\n",
      "{'RAN': ['R', 'G', 'B', 'W'], 'SYL': ['G', 'B'], 'KHU': ['B', 'W'], 'MYM': ['G', 'B', 'W'], 'RAJ': ['G', 'B', 'W']}\n",
      "{'DK': 'R', 'BAR': 'G', 'CTG': 'W'}\n",
      "{'RAN': ['R', 'G', 'B', 'W'], 'KHU': ['B', 'W'], 'MYM': ['B', 'W'], 'RAJ': ['G', 'B', 'W']}\n",
      "{'DK': 'R', 'BAR': 'G', 'CTG': 'W', 'SYL': 'G'}\n",
      "{'RAN': ['R', 'G', 'B', 'W'], 'MYM': ['B', 'W'], 'RAJ': ['G', 'B']}\n",
      "{'DK': 'R', 'BAR': 'G', 'CTG': 'W', 'SYL': 'G', 'KHU': 'W'}\n",
      "{'RAN': ['R', 'G', 'B'], 'RAJ': ['G', 'B']}\n",
      "{'DK': 'R', 'BAR': 'G', 'CTG': 'W', 'SYL': 'G', 'KHU': 'W', 'MYM': 'W'}\n",
      "{'RAN': ['R', 'B']}\n",
      "{'DK': 'R', 'BAR': 'G', 'CTG': 'W', 'SYL': 'G', 'KHU': 'W', 'MYM': 'W', 'RAJ': 'G'}\n",
      "{}\n",
      "{'DK': 'R', 'BAR': 'G', 'CTG': 'W', 'SYL': 'G', 'KHU': 'W', 'MYM': 'W', 'RAJ': 'G', 'RAN': 'B'}\n"
     ]
    }
   ],
   "source": [
    "assigned = {}\n",
    "\n",
    "remainingValues = {'DK': ['R','G','B','W'], \n",
    "                   'BAR': ['R','G','B','W'], \n",
    "                   'CTG': ['R','G','B','W'],\n",
    "                   'RAN': ['R','G','B','W'], \n",
    "                   'SYL': ['R','G','B','W'], \n",
    "                   'KHU': ['R','G','B','W'], \n",
    "                   'MYM': ['R','G','B','W'],\n",
    "                   'RAJ': ['R','G','B','W']}\n",
    "\n",
    "for i in range(0,len(remainingValues)):\n",
    "    # assign color to the highest degree node\n",
    "    mrvNode = get_MRVnode(remainingValues)\n",
    "    if mrvNode =='':\n",
    "        print('assignment complete')\n",
    "    color = get_color(mrvNode, remainingValues, cgraph)\n",
    "    # CODE\n",
    "    # check if 'no color' is returned\n",
    "    # print failure  \n",
    "    if color == 'no color':\n",
    "        print('failure')\n",
    "    \n",
    "\n",
    "    assigned[mrvNode]= color\n",
    "    print(remainingValues)\n",
    "    print(assigned)"
   ]
  },
  {
   "cell_type": "code",
   "execution_count": null,
   "metadata": {},
   "outputs": [],
   "source": []
  }
 ],
 "metadata": {
  "kernelspec": {
   "display_name": "Python 3",
   "language": "python",
   "name": "python3"
  },
  "language_info": {
   "codemirror_mode": {
    "name": "ipython",
    "version": 3
   },
   "file_extension": ".py",
   "mimetype": "text/x-python",
   "name": "python",
   "nbconvert_exporter": "python",
   "pygments_lexer": "ipython3",
   "version": "3.8.8"
  }
 },
 "nbformat": 4,
 "nbformat_minor": 4
}
