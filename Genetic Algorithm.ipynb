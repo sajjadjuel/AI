{
 "cells": [
  {
   "cell_type": "markdown",
   "metadata": {},
   "source": [
    "### Problem: Maximie f(x) = x^2-11x+100 when x = 0 to 127"
   ]
  },
  {
   "cell_type": "markdown",
   "metadata": {},
   "source": [
    "Representation or ecoding solution:\n",
    "x can be represented using 7 bits binary number."
   ]
  },
  {
   "cell_type": "markdown",
   "metadata": {},
   "source": [
    "# Step 1: Initialize Population"
   ]
  },
  {
   "cell_type": "code",
   "execution_count": 64,
   "metadata": {
    "_cell_guid": "b1076dfc-b9ad-4769-8c92-a6c4dae69d19",
    "_uuid": "8f2839f25d086af736a60e9eeb907d3b93b6e0e5"
   },
   "outputs": [],
   "source": [
    "import random\n",
    "def initPopulation(b, n = 10): # n is the number of solutions, b is the length\n",
    "    p = [] # to store solution set/ initial population\n",
    "    for i in range(n):\n",
    "        s = [] # to store a solution as a list\n",
    "        for j in range(b):\n",
    "            s.append(random.choice([0,1]))    \n",
    "        # avoid zero\n",
    "        p.append(s)\n",
    "    return p"
   ]
  },
  {
   "cell_type": "code",
   "execution_count": 65,
   "metadata": {},
   "outputs": [
    {
     "data": {
      "text/plain": [
       "[[1, 0, 0, 0, 0, 0, 1],\n",
       " [1, 1, 0, 1, 1, 1, 1],\n",
       " [1, 1, 1, 1, 1, 1, 1],\n",
       " [0, 1, 0, 1, 1, 1, 1],\n",
       " [1, 1, 1, 1, 0, 1, 1],\n",
       " [0, 1, 1, 0, 1, 0, 0],\n",
       " [1, 1, 0, 1, 1, 0, 1],\n",
       " [1, 0, 1, 1, 0, 1, 0],\n",
       " [1, 1, 0, 0, 0, 1, 0],\n",
       " [1, 0, 0, 1, 0, 0, 1],\n",
       " [1, 1, 0, 0, 1, 1, 0],\n",
       " [1, 0, 1, 1, 0, 0, 0],\n",
       " [1, 1, 0, 1, 0, 0, 0],\n",
       " [0, 1, 1, 0, 0, 0, 0],\n",
       " [1, 0, 1, 0, 0, 0, 0],\n",
       " [0, 1, 1, 0, 0, 0, 0],\n",
       " [0, 1, 0, 1, 0, 0, 0],\n",
       " [1, 0, 0, 1, 1, 0, 0],\n",
       " [1, 1, 1, 0, 1, 0, 1],\n",
       " [1, 1, 1, 1, 1, 0, 1]]"
      ]
     },
     "execution_count": 65,
     "metadata": {},
     "output_type": "execute_result"
    }
   ],
   "source": [
    "population = initPopulation(7,20)\n",
    "population"
   ]
  },
  {
   "cell_type": "markdown",
   "metadata": {},
   "source": [
    "# Step 2: Reproduction or Parent Selection"
   ]
  },
  {
   "cell_type": "markdown",
   "metadata": {},
   "source": [
    "Fitness Calculation"
   ]
  },
  {
   "cell_type": "code",
   "execution_count": 66,
   "metadata": {},
   "outputs": [
    {
     "data": {
      "text/plain": [
       "[4, 3, 2, 1, 0]"
      ]
     },
     "execution_count": 66,
     "metadata": {},
     "output_type": "execute_result"
    }
   ],
   "source": [
    "[i for i in range(4,-1,-1)]"
   ]
  },
  {
   "cell_type": "code",
   "execution_count": 67,
   "metadata": {},
   "outputs": [],
   "source": [
    "def getFitness(p): # p is the whole population\n",
    "    f = [] # to store fitness values\n",
    "    for sol in p:\n",
    "        d = 0 # decimel value\n",
    "        b = len(sol)\n",
    "        for i in range(b-1,-1,-1): # binary to decimel\n",
    "            d = d + sol[i]*2**(b-1-i)\n",
    "        f.append(d**2 - 11*d + 100) # fitness function\n",
    "    return f"
   ]
  },
  {
   "cell_type": "code",
   "execution_count": 68,
   "metadata": {},
   "outputs": [
    {
     "data": {
      "text/plain": [
       "[3610,\n",
       " 11200,\n",
       " 14832,\n",
       " 1792,\n",
       " 13876,\n",
       " 2232,\n",
       " 10782,\n",
       " 7210,\n",
       " 8626,\n",
       " 4626,\n",
       " 9382,\n",
       " 6876,\n",
       " 9772,\n",
       " 1876,\n",
       " 5620,\n",
       " 1876,\n",
       " 1260,\n",
       " 5040,\n",
       " 12502,\n",
       " 14350]"
      ]
     },
     "execution_count": 68,
     "metadata": {},
     "output_type": "execute_result"
    }
   ],
   "source": [
    "fitness = getFitness(population)\n",
    "fitness"
   ]
  },
  {
   "cell_type": "markdown",
   "metadata": {},
   "source": [
    "calculate probability and select parents"
   ]
  },
  {
   "cell_type": "code",
   "execution_count": 69,
   "metadata": {},
   "outputs": [],
   "source": [
    "def select_parent(n, pop): # probability, parent selection\n",
    "    # probability\n",
    "    fitness = getFitness(pop)\n",
    "    total_fitness = sum(fitness)\n",
    "    prob = [round(f/total_fitness,3) for f in fitness]\n",
    "    # parent selection\n",
    "    parents = []\n",
    "    for i in range(n):\n",
    "        # roullete wheel, generate a random number\n",
    "        r = random.choice(range(1,1001,1))/1000\n",
    "        lim = 0\n",
    "        # check bin number of r\n",
    "        for j in range(len(prob)):\n",
    "            lim = lim + prob[j]\n",
    "            if r <= lim :#checking the bin\n",
    "                print(j)\n",
    "                parents.append(pop[j])\n",
    "                break\n",
    "    return parents"
   ]
  },
  {
   "cell_type": "code",
   "execution_count": 70,
   "metadata": {},
   "outputs": [
    {
     "name": "stdout",
     "output_type": "stream",
     "text": [
      "14\n",
      "16\n",
      "17\n",
      "10\n",
      "2\n",
      "10\n",
      "2\n",
      "8\n"
     ]
    },
    {
     "data": {
      "text/plain": [
       "[[1, 0, 1, 0, 0, 0, 0],\n",
       " [0, 1, 0, 1, 0, 0, 0],\n",
       " [1, 0, 0, 1, 1, 0, 0],\n",
       " [1, 1, 0, 0, 1, 1, 0],\n",
       " [1, 1, 1, 1, 1, 1, 1],\n",
       " [1, 1, 0, 0, 1, 1, 0],\n",
       " [1, 1, 1, 1, 1, 1, 1],\n",
       " [1, 1, 0, 0, 0, 1, 0]]"
      ]
     },
     "execution_count": 70,
     "metadata": {},
     "output_type": "execute_result"
    }
   ],
   "source": [
    "parents = select_parent(8, population)\n",
    "parents"
   ]
  },
  {
   "cell_type": "markdown",
   "metadata": {},
   "source": [
    "# Step 3: Crossover"
   ]
  },
  {
   "cell_type": "code",
   "execution_count": 71,
   "metadata": {},
   "outputs": [],
   "source": [
    "# define a method crossover (input is parents set)\n",
    "def Crossover(parents):\n",
    "    num_cross = len(parents)/2\n",
    "    print(num_cross)\n",
    "    offspring=[]\n",
    "    for c in range (0, len(parents), 2):\n",
    "        cp = random.choice(range(1,7))\n",
    "        p= parents[c]\n",
    "        q=parents[c+1]\n",
    "        p=p[0:cp]\n",
    "        q=q[cp:]\n",
    "        offspring.append(p + q)\n",
    "        \n",
    "\n",
    "        offspring.append(q + p)\n",
    "\n",
    "    return offspring\n"
   ]
  },
  {
   "cell_type": "code",
   "execution_count": 72,
   "metadata": {},
   "outputs": [
    {
     "name": "stdout",
     "output_type": "stream",
     "text": [
      "4.0\n"
     ]
    },
    {
     "data": {
      "text/plain": [
       "[[1, 0, 1, 1, 0, 0, 0],\n",
       " [1, 0, 0, 0, 1, 0, 1],\n",
       " [1, 0, 0, 0, 1, 1, 0],\n",
       " [0, 0, 1, 1, 0, 1, 0],\n",
       " [1, 1, 0, 0, 1, 1, 0],\n",
       " [0, 0, 1, 1, 0, 1, 1],\n",
       " [1, 1, 0, 0, 0, 1, 0],\n",
       " [0, 0, 0, 1, 0, 1, 1]]"
      ]
     },
     "execution_count": 72,
     "metadata": {},
     "output_type": "execute_result"
    }
   ],
   "source": [
    "d=Crossover(parents)\n",
    "d"
   ]
  },
  {
   "cell_type": "markdown",
   "metadata": {},
   "source": [
    "# Step 4: Mutation"
   ]
  },
  {
   "cell_type": "code",
   "execution_count": 85,
   "metadata": {},
   "outputs": [],
   "source": [
    "#Mutation\n",
    "def Mutation(offspring):\n",
    "    for i in range (len(offspring)):\n",
    "        for j in range (len(offspring[i])):\n",
    "            m = random.choice(range(1,100))\n",
    "            print(m)\n",
    "            if (m==1):\n",
    "                if (offspring[i][j]==1):\n",
    "                    offspring[i][j]=0\n",
    "                else :\n",
    "                    offspring[i][j]=1\n",
    "                \n",
    "    return offspring\n"
   ]
  },
  {
   "cell_type": "code",
   "execution_count": 95,
   "metadata": {},
   "outputs": [
    {
     "name": "stdout",
     "output_type": "stream",
     "text": [
      "90\n",
      "97\n",
      "72\n",
      "82\n",
      "24\n",
      "44\n",
      "4\n",
      "77\n",
      "1\n",
      "51\n",
      "37\n",
      "93\n",
      "77\n",
      "88\n",
      "14\n",
      "16\n",
      "59\n",
      "67\n",
      "41\n",
      "94\n",
      "89\n",
      "91\n",
      "72\n",
      "24\n",
      "71\n",
      "55\n",
      "6\n",
      "32\n",
      "57\n",
      "36\n",
      "31\n",
      "7\n",
      "2\n",
      "25\n",
      "14\n",
      "98\n",
      "59\n",
      "82\n",
      "96\n",
      "93\n",
      "51\n",
      "65\n",
      "88\n",
      "91\n",
      "25\n",
      "49\n",
      "3\n",
      "37\n",
      "62\n",
      "35\n",
      "29\n",
      "55\n",
      "2\n",
      "71\n",
      "99\n",
      "59\n"
     ]
    },
    {
     "data": {
      "text/plain": [
       "[[1, 0, 1, 1, 0, 0, 0],\n",
       " [1, 1, 0, 0, 1, 0, 1],\n",
       " [1, 0, 0, 0, 1, 1, 0],\n",
       " [0, 0, 1, 0, 0, 1, 0],\n",
       " [1, 0, 0, 0, 1, 1, 0],\n",
       " [0, 0, 1, 1, 0, 1, 1],\n",
       " [1, 1, 0, 0, 0, 1, 0],\n",
       " [0, 0, 0, 1, 0, 1, 1]]"
      ]
     },
     "execution_count": 95,
     "metadata": {},
     "output_type": "execute_result"
    }
   ],
   "source": [
    "m=Mutation(d)\n",
    "m"
   ]
  },
  {
   "cell_type": "markdown",
   "metadata": {},
   "source": [
    "# Step 5: Select Survivor\n",
    "The selected survivors (solutions) will be added to population"
   ]
  },
  {
   "cell_type": "markdown",
   "metadata": {},
   "source": [
    "Select top 2 offspring based on fitness value and add them to population."
   ]
  },
  {
   "cell_type": "markdown",
   "metadata": {},
   "source": [
    "Repeat Step 2 to 4 for further iterations"
   ]
  },
  {
   "cell_type": "code",
   "execution_count": 96,
   "metadata": {},
   "outputs": [],
   "source": [
    "# define a method to select top offsprings (input offsprings, top)\n",
    "def Survivor(offspring,top=2):\n",
    "    s= getFitness(offspring)\n",
    "    d.sort(reverse=True)\n",
    "    s.sort(reverse=True)\n",
    "    s=s[0:top]\n",
    "    print(s)\n",
    "    print(\"Survived Population: \")\n",
    "    for u in range(len(s)):\n",
    "        print(d[u])\n",
    "        parents.append(d[u])\n",
    "    update_parents=parents\n",
    "    print(\"\\nUpdate Population: \")\n",
    "    return  update_parents"
   ]
  },
  {
   "cell_type": "code",
   "execution_count": 97,
   "metadata": {},
   "outputs": [
    {
     "name": "stdout",
     "output_type": "stream",
     "text": [
      "[9190, 8626]\n",
      "Survived Population: \n",
      "[1, 1, 0, 0, 1, 0, 1]\n",
      "[1, 1, 0, 0, 0, 1, 0]\n",
      "\n",
      "Update Population: \n"
     ]
    },
    {
     "data": {
      "text/plain": [
       "[[1, 0, 1, 0, 0, 0, 0],\n",
       " [0, 1, 0, 1, 0, 0, 0],\n",
       " [1, 0, 0, 1, 1, 0, 0],\n",
       " [1, 1, 0, 0, 1, 1, 0],\n",
       " [1, 1, 1, 1, 1, 1, 1],\n",
       " [1, 1, 0, 0, 1, 1, 0],\n",
       " [1, 1, 1, 1, 1, 1, 1],\n",
       " [1, 1, 0, 0, 0, 1, 0],\n",
       " [1, 1, 0, 0, 1, 0, 1],\n",
       " [1, 1, 0, 0, 0, 1, 0]]"
      ]
     },
     "execution_count": 97,
     "metadata": {},
     "output_type": "execute_result"
    }
   ],
   "source": [
    "p=Survivor(m,2)\n",
    "p"
   ]
  },
  {
   "cell_type": "code",
   "execution_count": 138,
   "metadata": {},
   "outputs": [
    {
     "data": {
      "text/plain": [
       "[8080, 7902, 14350, 8080, 8626, 7552, 5922, 8626, 8626, 8080]"
      ]
     },
     "execution_count": 138,
     "metadata": {},
     "output_type": "execute_result"
    }
   ],
   "source": [
    "Up_fitness = getFitness(parents)\n",
    "Up_fitness"
   ]
  },
  {
   "cell_type": "code",
   "execution_count": 139,
   "metadata": {},
   "outputs": [
    {
     "name": "stdout",
     "output_type": "stream",
     "text": [
      "1\n",
      "5\n",
      "5\n",
      "5\n",
      "8\n",
      "1\n",
      "8\n",
      "4\n"
     ]
    },
    {
     "data": {
      "text/plain": [
       "[[1, 0, 1, 1, 1, 1, 0],\n",
       " [1, 0, 1, 1, 1, 0, 0],\n",
       " [1, 0, 1, 1, 1, 0, 0],\n",
       " [1, 0, 1, 1, 1, 0, 0],\n",
       " [1, 1, 0, 0, 0, 1, 0],\n",
       " [1, 0, 1, 1, 1, 1, 0],\n",
       " [1, 1, 0, 0, 0, 1, 0],\n",
       " [1, 1, 0, 0, 0, 1, 0]]"
      ]
     },
     "execution_count": 139,
     "metadata": {},
     "output_type": "execute_result"
    }
   ],
   "source": [
    "Up_Parents=select_parent(8, parents)\n",
    "Up_Parents"
   ]
  },
  {
   "cell_type": "code",
   "execution_count": 140,
   "metadata": {},
   "outputs": [
    {
     "name": "stdout",
     "output_type": "stream",
     "text": [
      "4.0\n"
     ]
    },
    {
     "data": {
      "text/plain": [
       "[[1, 0, 1, 1, 1, 0, 0],\n",
       " [1, 1, 0, 0, 1, 0, 1],\n",
       " [1, 0, 1, 1, 1, 0, 0],\n",
       " [1, 1, 1, 0, 0, 1, 0],\n",
       " [1, 1, 0, 0, 0, 1, 0],\n",
       " [0, 1, 1, 0, 0, 0, 1],\n",
       " [1, 1, 0, 0, 0, 1, 0],\n",
       " [1, 0, 0, 0, 1, 0, 1]]"
      ]
     },
     "execution_count": 140,
     "metadata": {},
     "output_type": "execute_result"
    }
   ],
   "source": [
    "Up_Crossover=Crossover(Up_Parents)\n",
    "Up_Crossover"
   ]
  },
  {
   "cell_type": "code",
   "execution_count": 141,
   "metadata": {},
   "outputs": [
    {
     "name": "stdout",
     "output_type": "stream",
     "text": [
      "[11842, 9190]\n",
      "Survived Population: \n",
      "[1, 1, 0, 0, 0, 1, 0]\n",
      "[1, 0, 1, 1, 1, 1, 1]\n",
      "\n",
      "Update Population: \n"
     ]
    },
    {
     "data": {
      "text/plain": [
       "[[1, 0, 1, 1, 1, 1, 1],\n",
       " [1, 0, 1, 1, 1, 1, 0],\n",
       " [1, 1, 1, 1, 1, 0, 1],\n",
       " [1, 0, 1, 1, 1, 1, 1],\n",
       " [1, 1, 0, 0, 0, 1, 0],\n",
       " [1, 0, 1, 1, 1, 0, 0],\n",
       " [1, 0, 1, 0, 0, 1, 0],\n",
       " [1, 1, 0, 0, 0, 1, 0],\n",
       " [1, 1, 0, 0, 0, 1, 0],\n",
       " [1, 0, 1, 1, 1, 1, 1],\n",
       " [1, 1, 0, 0, 0, 1, 0],\n",
       " [1, 0, 1, 1, 1, 1, 1]]"
      ]
     },
     "execution_count": 141,
     "metadata": {},
     "output_type": "execute_result"
    }
   ],
   "source": [
    "Up_Survivor=Survivor(Up_Crossover,2)\n",
    "Up_Survivor"
   ]
  },
  {
   "cell_type": "code",
   "execution_count": null,
   "metadata": {},
   "outputs": [],
   "source": []
  }
 ],
 "metadata": {
  "kernelspec": {
   "display_name": "Python 3",
   "language": "python",
   "name": "python3"
  },
  "language_info": {
   "codemirror_mode": {
    "name": "ipython",
    "version": 3
   },
   "file_extension": ".py",
   "mimetype": "text/x-python",
   "name": "python",
   "nbconvert_exporter": "python",
   "pygments_lexer": "ipython3",
   "version": "3.8.8"
  }
 },
 "nbformat": 4,
 "nbformat_minor": 4
}
